{
 "cells": [
  {
   "cell_type": "code",
   "execution_count": 2,
   "metadata": {},
   "outputs": [],
   "source": [
    "import random\n",
    "import pickle\n",
    "import numpy as np\n",
    "import tensorflow as tf\n",
    "from sklearn.preprocessing import MinMaxScaler"
   ]
  },
  {
   "cell_type": "code",
   "execution_count": 11,
   "metadata": {},
   "outputs": [],
   "source": [
    "def _bytes_feature(value):\n",
    "    \"\"\"Returns a bytes_list from a string / byte.\"\"\"\n",
    "    if isinstance(value, type(tf.constant(0))): # if value ist tensor\n",
    "        value = value.numpy() # get value of tensor\n",
    "    return tf.train.Feature(bytes_list=tf.train.BytesList(value=[value]))\n",
    "\n",
    "def _float_feature(value):\n",
    "    \"\"\"Returns a floast_list from a float / double.\"\"\"\n",
    "    return tf.train.Feature(float_list=tf.train.FloatList(value=[value]))\n",
    "\n",
    "def _int64_feature(value):\n",
    "    \"\"\"Returns an int64_list from a bool / enum / int / uint.\"\"\"\n",
    "    return tf.train.Feature(int64_list=tf.train.Int64List(value=[value]))\n",
    "\n",
    "def serialize_array(array):\n",
    "    array = tf.io.serialize_tensor(array)\n",
    "    return array\n",
    "\n",
    "def parse_single_data(feature, label):\n",
    "    #define the dictionary -- the structure -- of our single example\n",
    "    print(type(feature))\n",
    "    data = {\n",
    "        'feature' : _bytes_feature(tf.io.serialize_tensor(feature)),\n",
    "        'label' : _bytes_feature(tf.io.serialize_tensor(label))\n",
    "    }\n",
    "\n",
    "    out = tf.train.Example(features=tf.train.Features(feature=data))\n",
    "    return out\n",
    "\n",
    "def write_data_to_tfr_short(datas, labels, filename:str=\"data\"):\n",
    "    filename= filename+\".tfrecords\"\n",
    "    writer = tf.io.TFRecordWriter(filename) #create a writer that'll store our data to disk\n",
    "    count = 0\n",
    "\n",
    "    for index in range(len(datas)):\n",
    "\n",
    "        #get the data we want to write\n",
    "        current_data = datas[index]\n",
    "        current_label = labels[index]\n",
    "\n",
    "        out = parse_single_data(feature=current_data, label=current_label)\n",
    "        writer.write(out.SerializeToString())\n",
    "        count += 1\n",
    "\n",
    "    writer.close()\n",
    "    print(f\"Wrote {count} elements to TFRecord\")\n",
    "    return count"
   ]
  },
  {
   "cell_type": "markdown",
   "metadata": {},
   "source": [
    "#  Load data and scaled"
   ]
  },
  {
   "cell_type": "code",
   "execution_count": 14,
   "metadata": {},
   "outputs": [],
   "source": [
    "X = np.loadtxt('data/xtrain_copy.txt')\n",
    "y = np.loadtxt('data/ytrain_copy.txt')\n",
    "\n",
    "sc = MinMaxScaler()\n",
    "X_scaled = sc.fit_transform(X)\n",
    "pickle.dump(sc, open(f'scaler.pkl', 'wb'))"
   ]
  },
  {
   "cell_type": "markdown",
   "metadata": {},
   "source": [
    "# random shuffle and split"
   ]
  },
  {
   "cell_type": "code",
   "execution_count": 15,
   "metadata": {},
   "outputs": [],
   "source": [
    "seed = 777\n",
    "idx = np.arange(X_scaled.shape[0])\n",
    "random.seed(seed)\n",
    "random.shuffle(idx)\n",
    "nb_test_samples = int(0.2 * idx.shape[0])\n",
    "X_scaled = X_scaled[idx]\n",
    "y = y[idx]\n",
    "X_train, y_train = X_scaled[nb_test_samples:], y[nb_test_samples:]\n",
    "X_val, y_val = X_scaled[:nb_test_samples], y[:nb_test_samples]"
   ]
  },
  {
   "cell_type": "markdown",
   "metadata": {},
   "source": [
    "# Write to tfrec dataset"
   ]
  },
  {
   "cell_type": "code",
   "execution_count": null,
   "metadata": {},
   "outputs": [],
   "source": [
    "write_data_to_tfr_short(X_val, y_val, filename='val_dataset')\n",
    "write_data_to_tfr_short(X_train, y_train, filename='train_dataset')"
   ]
  }
 ],
 "metadata": {
  "file_extension": ".py",
  "kernelspec": {
   "display_name": "Python (torch)",
   "language": "python",
   "name": "torch"
  },
  "language_info": {
   "codemirror_mode": {
    "name": "ipython",
    "version": 3
   },
   "file_extension": ".py",
   "mimetype": "text/x-python",
   "name": "python",
   "nbconvert_exporter": "python",
   "pygments_lexer": "ipython3",
   "version": "3.7.11"
  },
  "mimetype": "text/x-python",
  "name": "python",
  "npconvert_exporter": "python",
  "pygments_lexer": "ipython3",
  "version": 3
 },
 "nbformat": 4,
 "nbformat_minor": 2
}
